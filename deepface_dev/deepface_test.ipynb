{
 "cells": [
  {
   "cell_type": "code",
   "execution_count": 52,
   "metadata": {},
   "outputs": [],
   "source": [
    "from deepface import DeepFace"
   ]
  },
  {
   "cell_type": "code",
   "execution_count": 53,
   "metadata": {},
   "outputs": [],
   "source": [
    "import time\n",
    "\n",
    "models = [\n",
    "  \"Facenet512\", \n",
    "]\n",
    "\n",
    "# add time tracker to track time\n",
    "start = time.time()"
   ]
  },
  {
   "cell_type": "code",
   "execution_count": 55,
   "metadata": {},
   "outputs": [],
   "source": [
    "\n",
    "#face verification\n",
    "result = DeepFace.verify(\n",
    "  img1_path = \"database/prachee.jpg\",\n",
    "  img2_path = \"database/tejas.jpg\",\n",
    "  model_name = models[0],\n",
    "  detector_backend=\"opencv\",\n",
    ")"
   ]
  },
  {
   "cell_type": "code",
   "execution_count": 56,
   "metadata": {},
   "outputs": [
    {
     "data": {
      "text/plain": [
       "{'verified': False,\n",
       " 'distance': 0.783765521054157,\n",
       " 'threshold': 0.3,\n",
       " 'model': 'Facenet512',\n",
       " 'detector_backend': 'opencv',\n",
       " 'similarity_metric': 'cosine',\n",
       " 'facial_areas': {'img1': {'x': 452,\n",
       "   'y': 640,\n",
       "   'w': 468,\n",
       "   'h': 468,\n",
       "   'left_eye': None,\n",
       "   'right_eye': None},\n",
       "  'img2': {'x': 351,\n",
       "   'y': 556,\n",
       "   'w': 549,\n",
       "   'h': 549,\n",
       "   'left_eye': (735, 790),\n",
       "   'right_eye': (514, 786)}},\n",
       " 'time': 2.2}"
      ]
     },
     "execution_count": 56,
     "metadata": {},
     "output_type": "execute_result"
    }
   ],
   "source": [
    "result"
   ]
  },
  {
   "cell_type": "code",
   "execution_count": 38,
   "metadata": {},
   "outputs": [
    {
     "name": "stdout",
     "output_type": "stream",
     "text": [
      "Time taken for face verification:  1.1417810916900635\n",
      "Time taken for face verification:  0.7145309448242188\n",
      "24-09-15 07:31:36 - Searching database/John/1.jpg in 7 length datastore\n",
      "24-09-15 07:31:36 - find function duration 0.36121511459350586 seconds\n",
      "24-09-15 07:31:36 - Searching database/John/1.jpg in 14 length datastore\n",
      "24-09-15 07:31:36 - find function duration 0.2581961154937744 seconds\n"
     ]
    }
   ],
   "source": [
    "end1 = time.time()\n",
    "\n",
    "result2 = DeepFace.verify(\n",
    "  img1_path = \"database/John/1.jpg\",\n",
    "  img2_path = \"database/Sherlock/2.jpg\",\n",
    "  model_name = models[0],\n",
    "  detector_backend=\"opencv\",\n",
    ")\n",
    "\n",
    "end2 = time.time()\n",
    "\n",
    "print(\"Time taken for face verification: \", end1 - start)\n",
    "print(\"Time taken for face verification: \", end2 - end1)\n",
    "\n",
    "#face recognition\n",
    "dfs = DeepFace.find(\n",
    "  img_path = \"database/John/1.jpg\",\n",
    "  db_path = \"database/John\", \n",
    "  model_name = models[0],\n",
    ")\n",
    "\n",
    "dfs2 = DeepFace.find(\n",
    "  img_path = \"database/John/1.jpg\",\n",
    "  db_path = \"database/Sherlock\", \n",
    "  model_name = models[0],\n",
    ")\n",
    "\n",
    "#embeddings\n",
    "embedding_objs = DeepFace.represent(\n",
    "  img_path = \"database/John/1.jpg\",\n",
    "  model_name = models[0],\n",
    ")"
   ]
  },
  {
   "cell_type": "code",
   "execution_count": 51,
   "metadata": {},
   "outputs": [
    {
     "data": {
      "text/plain": [
       "'database/Sherlock/1 copy.jpg'"
      ]
     },
     "execution_count": 51,
     "metadata": {},
     "output_type": "execute_result"
    }
   ],
   "source": [
    "dfs2[0][\"identity\"][0]"
   ]
  },
  {
   "cell_type": "code",
   "execution_count": 50,
   "metadata": {},
   "outputs": [
    {
     "data": {
      "text/plain": [
       "512"
      ]
     },
     "execution_count": 50,
     "metadata": {},
     "output_type": "execute_result"
    }
   ],
   "source": [
    "len(embedding_objs[0]['embedding'])"
   ]
  },
  {
   "cell_type": "code",
   "execution_count": 49,
   "metadata": {},
   "outputs": [
    {
     "data": {
      "text/plain": [
       "[              identity                                      hash  target_x  \\\n",
       " 0  database/John/1.jpg  11f73399a74ffdc8e410ee70aaec9043c2020c43       460   \n",
       " 1  database/John/4.jpg  674667aea3c7425c3445450984cd6399bf50fb48       223   \n",
       " 2  database/John/5.jpg  fc26fe01b0b07867a89aad5de69b7a40674da6e6       310   \n",
       " 3  database/John/2.jpg  c4b122c5d9e669650381ca431bdad18d18f6c638       352   \n",
       " 4  database/John/3.jpg  b7d3c406d21b8dda1e303137d3d812302c0c63f5       475   \n",
       " \n",
       "    target_y  target_w  target_h  source_x  source_y  source_w  source_h  \\\n",
       " 0       136       383       383       460       136       383       383   \n",
       " 1        86       227       227       460       136       383       383   \n",
       " 2        76       305       305       460       136       383       383   \n",
       " 3       127       291       291       460       136       383       383   \n",
       " 4       108       256       256       460       136       383       383   \n",
       " \n",
       "    threshold      distance  \n",
       " 0        0.3  2.220446e-16  \n",
       " 1        0.3  1.385408e-02  \n",
       " 2        0.3  2.119632e-01  \n",
       " 3        0.3  2.263971e-01  \n",
       " 4        0.3  2.547369e-01  ]"
      ]
     },
     "execution_count": 49,
     "metadata": {},
     "output_type": "execute_result"
    }
   ],
   "source": [
    "dfs"
   ]
  },
  {
   "cell_type": "code",
   "execution_count": 9,
   "metadata": {},
   "outputs": [
    {
     "data": {
      "text/plain": [
       "{'verified': True,\n",
       " 'distance': 0.14485614197134988,\n",
       " 'threshold': 0.3,\n",
       " 'model': 'Facenet512',\n",
       " 'detector_backend': 'dlib',\n",
       " 'similarity_metric': 'cosine',\n",
       " 'facial_areas': {'img1': {'x': 486,\n",
       "   'y': 204,\n",
       "   'w': 321,\n",
       "   'h': 321,\n",
       "   'left_eye': (721, 288),\n",
       "   'right_eye': (578, 287)},\n",
       "  'img2': {'x': 395,\n",
       "   'y': 164,\n",
       "   'w': 222,\n",
       "   'h': 223,\n",
       "   'left_eye': (549, 231),\n",
       "   'right_eye': (453, 246)}},\n",
       " 'time': 4.22}"
      ]
     },
     "execution_count": 9,
     "metadata": {},
     "output_type": "execute_result"
    }
   ],
   "source": [
    "result"
   ]
  },
  {
   "cell_type": "code",
   "execution_count": 10,
   "metadata": {},
   "outputs": [
    {
     "data": {
      "text/plain": [
       "{'verified': False,\n",
       " 'distance': 0.8349056064000793,\n",
       " 'threshold': 0.3,\n",
       " 'model': 'Facenet512',\n",
       " 'detector_backend': 'dlib',\n",
       " 'similarity_metric': 'cosine',\n",
       " 'facial_areas': {'img1': {'x': 486,\n",
       "   'y': 204,\n",
       "   'w': 321,\n",
       "   'h': 321,\n",
       "   'left_eye': (721, 288),\n",
       "   'right_eye': (578, 287)},\n",
       "  'img2': {'x': 346,\n",
       "   'y': 101,\n",
       "   'w': 385,\n",
       "   'h': 385,\n",
       "   'left_eye': (595, 231),\n",
       "   'right_eye': (456, 236)}},\n",
       " 'time': 2.64}"
      ]
     },
     "execution_count": 10,
     "metadata": {},
     "output_type": "execute_result"
    }
   ],
   "source": [
    "result2"
   ]
  },
  {
   "cell_type": "code",
   "execution_count": null,
   "metadata": {},
   "outputs": [],
   "source": []
  }
 ],
 "metadata": {
  "kernelspec": {
   "display_name": "Python 3",
   "language": "python",
   "name": "python3"
  },
  "language_info": {
   "codemirror_mode": {
    "name": "ipython",
    "version": 3
   },
   "file_extension": ".py",
   "mimetype": "text/x-python",
   "name": "python",
   "nbconvert_exporter": "python",
   "pygments_lexer": "ipython3",
   "version": "3.9.19"
  }
 },
 "nbformat": 4,
 "nbformat_minor": 2
}
