{
 "cells": [
  {
   "cell_type": "code",
   "execution_count": null,
   "metadata": {},
   "outputs": [],
   "source": [
    "import iris\n",
    "import time\n",
    "import os\n",
    "\n",
    "namespace=\"USER\"\n",
    "port = 1972\n",
    "hostname = os.getenv('IRIS_HOSTNAME', 'localhost')\n",
    "connection_string = f\"{hostname}:{port}/{namespace}\"\n",
    "username = \"demo\"\n",
    "password = \"demo\""
   ]
  },
  {
   "cell_type": "code",
   "execution_count": null,
   "metadata": {},
   "outputs": [],
   "source": [
    "# Note: Ideally conn and cursor should be used with context manager or with try-execpt-finally \n",
    "conn = iris.connect(connection_string, username, password)\n",
    "cursor = conn.cursor()"
   ]
  },
  {
   "cell_type": "code",
   "execution_count": null,
   "metadata": {},
   "outputs": [],
   "source": [
    "users_table_name = \"Faces\"\n",
    "users_table_definition = \"\"\"(\n",
    "    name VARCHAR(255), \n",
    "    relationship VARCHAR(255),\n",
    "    face_embedding VECTOR(DOUBLE, 512), \n",
    "    other_info VARCHAR(512)\n",
    ")\"\"\"\n",
    "\n",
    "cursor.execute(f\"CREATE TABLE IF NOT EXISTS {users_table_name} {users_table_definition}\")"
   ]
  }
 ],
 "metadata": {
  "language_info": {
   "name": "python"
  }
 },
 "nbformat": 4,
 "nbformat_minor": 2
}
