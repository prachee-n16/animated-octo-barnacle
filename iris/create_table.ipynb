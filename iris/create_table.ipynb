{
 "cells": [
  {
   "cell_type": "code",
   "execution_count": 4,
   "metadata": {},
   "outputs": [],
   "source": [
    "import iris\n",
    "import time\n",
    "import os\n",
    "\n",
    "namespace=\"USER\"\n",
    "port = 1972\n",
    "hostname = os.getenv('IRIS_HOSTNAME', 'localhost')\n",
    "connection_string = f\"{hostname}:{port}/{namespace}\"\n",
    "username = \"demo\"\n",
    "password = \"demo\""
   ]
  },
  {
   "cell_type": "code",
   "execution_count": 5,
   "metadata": {},
   "outputs": [],
   "source": [
    "# Note: Ideally conn and cursor should be used with context manager or with try-execpt-finally \n",
    "conn = iris.connect(connection_string, username, password)\n",
    "cursor = conn.cursor()"
   ]
  },
  {
   "cell_type": "code",
   "execution_count": 6,
   "metadata": {},
   "outputs": [
    {
     "data": {
      "text/plain": [
       "0"
      ]
     },
     "execution_count": 6,
     "metadata": {},
     "output_type": "execute_result"
    }
   ],
   "source": [
    "users_table_name = \"Users\"\n",
    "users_table_definition = \"\"\"(\n",
    "    user_id INTEGER PRIMARY KEY,\n",
    "    name VARCHAR(255),\n",
    "    date_of_birth DATE,\n",
    "    medical_conditions TEXT,\n",
    "    profile_picture BLOB\n",
    ")\"\"\"\n",
    "\n",
    "cursor.execute(f\"CREATE TABLE IF NOT EXISTS {users_table_name} {users_table_definition}\")"
   ]
  },
  {
   "cell_type": "code",
   "execution_count": 7,
   "metadata": {},
   "outputs": [
    {
     "data": {
      "text/plain": [
       "0"
      ]
     },
     "execution_count": 7,
     "metadata": {},
     "output_type": "execute_result"
    }
   ],
   "source": [
    "memories_table_name = \"Memories\"\n",
    "memories_table_definition = \"\"\"(\n",
    "    memory_id INTEGER PRIMARY KEY,\n",
    "    user_id INTEGER,\n",
    "    title TEXT,\n",
    "    image BLOB,\n",
    "    description TEXT,\n",
    "    timestamp DATETIME DEFAULT CURRENT_TIMESTAMP,\n",
    "    FOREIGN KEY (user_id) REFERENCES Users(user_id)\n",
    ")\"\"\"\n",
    "\n",
    "cursor.execute(f\"CREATE TABLE IF NOT EXISTS {memories_table_name} {memories_table_definition}\")"
   ]
  },
  {
   "cell_type": "code",
   "execution_count": 8,
   "metadata": {},
   "outputs": [
    {
     "data": {
      "text/plain": [
       "0"
      ]
     },
     "execution_count": 8,
     "metadata": {},
     "output_type": "execute_result"
    }
   ],
   "source": [
    "people_table_name = \"People\"\n",
    "people_table_definition = \"\"\"(\n",
    "    person_id INTEGER PRIMARY KEY,\n",
    "    user_id INTEGER,\n",
    "    name VARCHAR(255),\n",
    "    relationship TEXT,\n",
    "    description TEXT,\n",
    "    picture BLOB,\n",
    "    FOREIGN KEY (user_id) REFERENCES Users(user_id)\n",
    ")\"\"\"\n",
    "\n",
    "cursor.execute(f\"CREATE TABLE IF NOT EXISTS {people_table_name} {people_table_definition}\")"
   ]
  },
  {
   "cell_type": "code",
   "execution_count": null,
   "metadata": {},
   "outputs": [],
   "source": []
  },
  {
   "cell_type": "code",
   "execution_count": null,
   "metadata": {},
   "outputs": [],
   "source": []
  }
 ],
 "metadata": {
  "kernelspec": {
   "display_name": "hackmit",
   "language": "python",
   "name": "python3"
  },
  "language_info": {
   "codemirror_mode": {
    "name": "ipython",
    "version": 3
   },
   "file_extension": ".py",
   "mimetype": "text/x-python",
   "name": "python",
   "nbconvert_exporter": "python",
   "pygments_lexer": "ipython3",
   "version": "3.10.14"
  }
 },
 "nbformat": 4,
 "nbformat_minor": 2
}
