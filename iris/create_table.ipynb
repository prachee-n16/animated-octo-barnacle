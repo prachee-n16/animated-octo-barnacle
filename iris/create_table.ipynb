{
 "cells": [
  {
   "cell_type": "code",
   "execution_count": 22,
   "metadata": {},
   "outputs": [
    {
     "name": "stdout",
     "output_type": "stream",
     "text": [
      "Collecting intersystems-iris==3.8.0\n",
      "  Downloading https://github.com/intersystems-community/intersystems-irispython/releases/download/3.8.0/intersystems_iris-3.8.0-py3-none-any.whl (119 kB)\n",
      "Collecting iris@ https://github.com/grongierisc/iris-embedded-python-wrapper/releases/download/v0.0.5/iris-0.0.5-py3-none-any.whl (from intersystems-iris==3.8.0)\n",
      "  Downloading https://github.com/grongierisc/iris-embedded-python-wrapper/releases/download/v0.0.5/iris-0.0.5-py3-none-any.whl (6.0 kB)\n",
      "Installing collected packages: iris\n",
      "Successfully installed iris-0.0.5\n"
     ]
    }
   ],
   "source": [
    "!pip install https://github.com/intersystems-community/intersystems-irispython/releases/download/3.8.0/intersystems_iris-3.8.0-py3-none-any.whl"
   ]
  },
  {
   "cell_type": "code",
   "execution_count": 23,
   "metadata": {},
   "outputs": [],
   "source": [
    "import intersystems_iris.dbapi._DBAPI as dbapi\n",
    "import time\n",
    "import os\n",
    "\n",
    "namespace=\"USER\"\n",
    "port = 1972\n",
    "hostname = os.getenv('IRIS_HOSTNAME', 'localhost')\n",
    "connection_string = f\"{hostname}:{port}/{namespace}\"\n",
    "username = \"demo\"\n",
    "password = \"demo\""
   ]
  },
  {
   "cell_type": "code",
   "execution_count": 24,
   "metadata": {},
   "outputs": [],
   "source": [
    "# Note: Ideally conn and cursor should be used with context manager or with try-execpt-finally \n",
    "conn = dbapi.connect(connection_string, username, password)\n",
    "cursor = conn.cursor()"
   ]
  },
  {
   "cell_type": "code",
   "execution_count": 25,
   "metadata": {},
   "outputs": [
    {
     "data": {
      "text/plain": [
       "0"
      ]
     },
     "execution_count": 25,
     "metadata": {},
     "output_type": "execute_result"
    }
   ],
   "source": [
    "users_table_name = \"Users\"\n",
    "users_table_definition = \"\"\"(\n",
    "    user_id INTEGER PRIMARY KEY,\n",
    "    name VARCHAR(255),\n",
    "    date_of_birth DATE,\n",
    "    medical_conditions TEXT,\n",
    "    profile_picture BLOB\n",
    ")\"\"\"\n",
    "\n",
    "cursor.execute(f\"CREATE TABLE IF NOT EXISTS {users_table_name} {users_table_definition}\")"
   ]
  },
  {
   "cell_type": "code",
   "execution_count": 26,
   "metadata": {},
   "outputs": [
    {
     "data": {
      "text/plain": [
       "0"
      ]
     },
     "execution_count": 26,
     "metadata": {},
     "output_type": "execute_result"
    }
   ],
   "source": [
    "memories_table_name = \"Memories\"\n",
    "memories_table_definition = \"\"\"(\n",
    "    memory_id INTEGER PRIMARY KEY,\n",
    "    user_id INTEGER,\n",
    "    title TEXT,\n",
    "    image BLOB,\n",
    "    description TEXT,\n",
    "    timestamp DATETIME DEFAULT CURRENT_TIMESTAMP,\n",
    "    FOREIGN KEY (user_id) REFERENCES Users(user_id)\n",
    ")\"\"\"\n",
    "\n",
    "cursor.execute(f\"CREATE TABLE IF NOT EXISTS {memories_table_name} {memories_table_definition}\")"
   ]
  },
  {
   "cell_type": "code",
   "execution_count": 27,
   "metadata": {},
   "outputs": [
    {
     "ename": "DatabaseError",
     "evalue": "[SQLCODE: <-306>:<Column with this name already exists>]\r\n[Location: <ServerLoop>]\r\n[%msg: <Column of name 'embedding' already exists>]",
     "output_type": "error",
     "traceback": [
      "\u001b[0;31m---------------------------------------------------------------------------\u001b[0m",
      "\u001b[0;31mDatabaseError\u001b[0m                             Traceback (most recent call last)",
      "Cell \u001b[0;32mIn[27], line 1\u001b[0m\n\u001b[0;32m----> 1\u001b[0m \u001b[43mcursor\u001b[49m\u001b[38;5;241;43m.\u001b[39;49m\u001b[43mexecute\u001b[49m\u001b[43m(\u001b[49m\u001b[38;5;124;43m\"\u001b[39;49m\u001b[38;5;124;43mALTER TABLE Memories ADD COLUMN embedding VECTOR(DOUBLE, 1536)\u001b[39;49m\u001b[38;5;124;43m\"\u001b[39;49m\u001b[43m)\u001b[49m\n",
      "File \u001b[0;32m~/anaconda3/envs/hackmit/lib/python3.10/site-packages/intersystems_iris/dbapi/_DBAPI.py:270\u001b[0m, in \u001b[0;36m_BaseCursor.execute\u001b[0;34m(self, operation, params)\u001b[0m\n\u001b[1;32m    267\u001b[0m \u001b[38;5;28;01melse\u001b[39;00m:\n\u001b[1;32m    268\u001b[0m     \u001b[38;5;28mself\u001b[39m\u001b[38;5;241m.\u001b[39m_cursor_type \u001b[38;5;241m=\u001b[39m CursorType\u001b[38;5;241m.\u001b[39mDEFAULT\n\u001b[0;32m--> 270\u001b[0m \u001b[38;5;28;43mself\u001b[39;49m\u001b[38;5;241;43m.\u001b[39;49m\u001b[43m_execute\u001b[49m\u001b[43m(\u001b[49m\u001b[43m)\u001b[49m\n\u001b[1;32m    271\u001b[0m \u001b[38;5;28;01mreturn\u001b[39;00m \u001b[38;5;28mself\u001b[39m\u001b[38;5;241m.\u001b[39m_rowcount\n",
      "File \u001b[0;32m~/anaconda3/envs/hackmit/lib/python3.10/site-packages/intersystems_iris/dbapi/_DBAPI.py:530\u001b[0m, in \u001b[0;36m_BaseCursor._execute\u001b[0;34m(self)\u001b[0m\n\u001b[1;32m    528\u001b[0m     \u001b[38;5;28;01mraise\u001b[39;00m NotImplementedErrorDBAPI(\u001b[38;5;124mf\u001b[39m\u001b[38;5;124m\"\u001b[39m\u001b[38;5;124mStatementType \u001b[39m\u001b[38;5;132;01m{\u001b[39;00m\u001b[38;5;28mself\u001b[39m\u001b[38;5;241m.\u001b[39m_statementType\u001b[38;5;241m.\u001b[39mname\u001b[38;5;132;01m}\u001b[39;00m\u001b[38;5;124m not implemented\u001b[39m\u001b[38;5;124m\"\u001b[39m)\n\u001b[1;32m    529\u001b[0m \u001b[38;5;28;01melse\u001b[39;00m:\n\u001b[0;32m--> 530\u001b[0m     \u001b[38;5;28;01mreturn\u001b[39;00m \u001b[43mexec_func\u001b[49m\u001b[43m(\u001b[49m\u001b[43m)\u001b[49m\n",
      "File \u001b[0;32m~/anaconda3/envs/hackmit/lib/python3.10/site-packages/intersystems_iris/dbapi/_DBAPI.py:978\u001b[0m, in \u001b[0;36mCursor._execute_update\u001b[0;34m(self)\u001b[0m\n\u001b[1;32m    977\u001b[0m \u001b[38;5;28;01mdef\u001b[39;00m \u001b[38;5;21m_execute_update\u001b[39m(\u001b[38;5;28mself\u001b[39m):\n\u001b[0;32m--> 978\u001b[0m     \u001b[38;5;28;43msuper\u001b[39;49m\u001b[43m(\u001b[49m\u001b[43m)\u001b[49m\u001b[38;5;241;43m.\u001b[39;49m\u001b[43m_execute_update\u001b[49m\u001b[43m(\u001b[49m\u001b[43m)\u001b[49m\n\u001b[1;32m    980\u001b[0m     \u001b[38;5;28;01mif\u001b[39;00m \u001b[38;5;28mself\u001b[39m\u001b[38;5;241m.\u001b[39m_parameter_sets \u001b[38;5;241m==\u001b[39m \u001b[38;5;241m0\u001b[39m \u001b[38;5;129;01mand\u001b[39;00m \u001b[38;5;129;01mnot\u001b[39;00m \u001b[38;5;28mself\u001b[39m\u001b[38;5;241m.\u001b[39m_multiple_result_sets:\n\u001b[1;32m    981\u001b[0m         \u001b[38;5;28mself\u001b[39m\u001b[38;5;241m.\u001b[39m_rowcount \u001b[38;5;241m=\u001b[39m \u001b[38;5;28mself\u001b[39m\u001b[38;5;241m.\u001b[39m_in_message\u001b[38;5;241m.\u001b[39mwire\u001b[38;5;241m.\u001b[39m_get()\n",
      "File \u001b[0;32m~/anaconda3/envs/hackmit/lib/python3.10/site-packages/intersystems_iris/dbapi/_DBAPI.py:630\u001b[0m, in \u001b[0;36m_BaseCursor._execute_update\u001b[0;34m(self)\u001b[0m\n\u001b[1;32m    627\u001b[0m         \u001b[38;5;28mself\u001b[39m\u001b[38;5;241m.\u001b[39m_prepared_update_execute()\n\u001b[1;32m    628\u001b[0m     \u001b[38;5;28;01melse\u001b[39;00m:\n\u001b[1;32m    629\u001b[0m         \u001b[38;5;66;03m# not found in client side cache - send DU message\u001b[39;00m\n\u001b[0;32m--> 630\u001b[0m         \u001b[38;5;28;43mself\u001b[39;49m\u001b[38;5;241;43m.\u001b[39;49m\u001b[43m_send_direct_update_request\u001b[49m\u001b[43m(\u001b[49m\u001b[43m)\u001b[49m\n\u001b[1;32m    631\u001b[0m \u001b[38;5;28;01melse\u001b[39;00m:\n\u001b[1;32m    632\u001b[0m     \u001b[38;5;28;01mif\u001b[39;00m \u001b[38;5;28mself\u001b[39m\u001b[38;5;241m.\u001b[39m_statementType \u001b[38;5;241m==\u001b[39m StatementType\u001b[38;5;241m.\u001b[39mQUERY \u001b[38;5;129;01mor\u001b[39;00m \u001b[38;5;28mself\u001b[39m\u001b[38;5;241m.\u001b[39m_statementType \u001b[38;5;241m==\u001b[39m StatementType\u001b[38;5;241m.\u001b[39mPREPARED_CALL_QUERY:\n",
      "File \u001b[0;32m~/anaconda3/envs/hackmit/lib/python3.10/site-packages/intersystems_iris/dbapi/_DBAPI.py:1302\u001b[0m, in \u001b[0;36mCursor._send_direct_update_request\u001b[0;34m(self)\u001b[0m\n\u001b[1;32m   1300\u001b[0m \u001b[38;5;28mself\u001b[39m\u001b[38;5;241m.\u001b[39m_in_message\u001b[38;5;241m.\u001b[39m_read_message_sql(sequence_number, \u001b[38;5;28mself\u001b[39m\u001b[38;5;241m.\u001b[39m_statement_id, \u001b[38;5;241m0\u001b[39m, [\u001b[38;5;241m100\u001b[39m])\n\u001b[1;32m   1301\u001b[0m \u001b[38;5;28mself\u001b[39m\u001b[38;5;241m.\u001b[39m_sqlcode \u001b[38;5;241m=\u001b[39m \u001b[38;5;28mself\u001b[39m\u001b[38;5;241m.\u001b[39m_in_message\u001b[38;5;241m.\u001b[39mwire\u001b[38;5;241m.\u001b[39mheader\u001b[38;5;241m.\u001b[39m_get_function_code()\n\u001b[0;32m-> 1302\u001b[0m \u001b[38;5;28;43mself\u001b[39;49m\u001b[38;5;241;43m.\u001b[39;49m\u001b[43m_process_sqlcode\u001b[49m\u001b[43m(\u001b[49m\u001b[38;5;28;43mself\u001b[39;49m\u001b[38;5;241;43m.\u001b[39;49m\u001b[43m_sqlcode\u001b[49m\u001b[43m)\u001b[49m\n\u001b[1;32m   1304\u001b[0m addToCache \u001b[38;5;241m=\u001b[39m \u001b[38;5;28mself\u001b[39m\u001b[38;5;241m.\u001b[39m_get_parameter_info(\u001b[38;5;28mself\u001b[39m\u001b[38;5;241m.\u001b[39m_in_message\u001b[38;5;241m.\u001b[39mwire)\n\u001b[1;32m   1306\u001b[0m notDDL \u001b[38;5;241m=\u001b[39m \u001b[38;5;28mbool\u001b[39m(\n\u001b[1;32m   1307\u001b[0m     \u001b[38;5;28mself\u001b[39m\u001b[38;5;241m.\u001b[39m_statementType \u001b[38;5;241m!=\u001b[39m StatementType\u001b[38;5;241m.\u001b[39mDDL_ALTER_DROP\n\u001b[1;32m   1308\u001b[0m     \u001b[38;5;129;01mand\u001b[39;00m \u001b[38;5;28mself\u001b[39m\u001b[38;5;241m.\u001b[39m_statementType \u001b[38;5;241m!=\u001b[39m StatementType\u001b[38;5;241m.\u001b[39mDDL_OTHER\n\u001b[1;32m   1309\u001b[0m )\n",
      "File \u001b[0;32m~/anaconda3/envs/hackmit/lib/python3.10/site-packages/intersystems_iris/dbapi/_DBAPI.py:754\u001b[0m, in \u001b[0;36mCursor._process_sqlcode\u001b[0;34m(self, sqlcode, message)\u001b[0m\n\u001b[1;32m    752\u001b[0m \u001b[38;5;28;01mif\u001b[39;00m sqlcode \u001b[38;5;129;01min\u001b[39;00m [\u001b[38;5;241m0\u001b[39m, \u001b[38;5;241m100\u001b[39m]:\n\u001b[1;32m    753\u001b[0m     \u001b[38;5;28;01mreturn\u001b[39;00m\n\u001b[0;32m--> 754\u001b[0m \u001b[38;5;28;43msuper\u001b[39;49m\u001b[43m(\u001b[49m\u001b[43m)\u001b[49m\u001b[38;5;241;43m.\u001b[39;49m\u001b[43m_process_sqlcode\u001b[49m\u001b[43m(\u001b[49m\u001b[43msqlcode\u001b[49m\u001b[43m,\u001b[49m\u001b[43m \u001b[49m\u001b[38;5;28;43mself\u001b[39;49m\u001b[38;5;241;43m.\u001b[39;49m\u001b[43m_get_error_info\u001b[49m\u001b[43m(\u001b[49m\u001b[43msqlcode\u001b[49m\u001b[43m)\u001b[49m\u001b[43m)\u001b[49m\n",
      "File \u001b[0;32m~/anaconda3/envs/hackmit/lib/python3.10/site-packages/intersystems_iris/dbapi/_DBAPI.py:354\u001b[0m, in \u001b[0;36m_BaseCursor._process_sqlcode\u001b[0;34m(self, sqlcode, message)\u001b[0m\n\u001b[1;32m    352\u001b[0m \u001b[38;5;28;01mif\u001b[39;00m \u001b[38;5;28mabs\u001b[39m(sqlcode) \u001b[38;5;129;01min\u001b[39;00m [\u001b[38;5;241m1\u001b[39m, \u001b[38;5;241m12\u001b[39m]:\n\u001b[1;32m    353\u001b[0m     \u001b[38;5;28;01mraise\u001b[39;00m OperationalError(message)\n\u001b[0;32m--> 354\u001b[0m \u001b[38;5;28;01mraise\u001b[39;00m DatabaseError(message)\n",
      "\u001b[0;31mDatabaseError\u001b[0m: [SQLCODE: <-306>:<Column with this name already exists>]\r\n[Location: <ServerLoop>]\r\n[%msg: <Column of name 'embedding' already exists>]"
     ]
    }
   ],
   "source": [
    "cursor.execute(\"ALTER TABLE Memories ADD COLUMN embedding VECTOR(DOUBLE, 1536)\")"
   ]
  },
  {
   "cell_type": "code",
   "execution_count": 28,
   "metadata": {},
   "outputs": [
    {
     "data": {
      "text/plain": [
       "0"
      ]
     },
     "execution_count": 28,
     "metadata": {},
     "output_type": "execute_result"
    }
   ],
   "source": [
    "people_table_name = \"People\"\n",
    "people_table_definition = \"\"\"(\n",
    "    person_id INTEGER PRIMARY KEY,\n",
    "    user_id INTEGER,\n",
    "    name VARCHAR(255),\n",
    "    relationship TEXT,\n",
    "    description TEXT,\n",
    "    picture BLOB,\n",
    "    FOREIGN KEY (user_id) REFERENCES Users(user_id)\n",
    ")\"\"\"\n",
    "\n",
    "cursor.execute(f\"CREATE TABLE IF NOT EXISTS {people_table_name} {people_table_definition}\")"
   ]
  },
  {
   "cell_type": "code",
   "execution_count": 16,
   "metadata": {},
   "outputs": [],
   "source": [
    "tableName = \"Demo.Diagnoses\"\n",
    "tableDefinition = \"(row_id INTEGER, icd9_code VARCHAR(255), short_title VARCHAR(255), long_title VARCHAR(''))\""
   ]
  },
  {
   "cell_type": "code",
   "execution_count": 17,
   "metadata": {},
   "outputs": [
    {
     "data": {
      "text/plain": [
       "0"
      ]
     },
     "execution_count": 17,
     "metadata": {},
     "output_type": "execute_result"
    }
   ],
   "source": [
    "try:\n",
    "    cursor.execute(f\"DROP TABLE {tableName}\")  \n",
    "except:\n",
    "    pass\n",
    "cursor.execute(f\"CREATE TABLE {tableName} {tableDefinition}\")"
   ]
  },
  {
   "cell_type": "code",
   "execution_count": 18,
   "metadata": {},
   "outputs": [
    {
     "data": {
      "text/plain": [
       "3"
      ]
     },
     "execution_count": 18,
     "metadata": {},
     "output_type": "execute_result"
    }
   ],
   "source": [
    "## batch update\n",
    "sql = \"Insert into Demo.Diagnoses (row_id, icd9_code,short_title,long_title) values (?, ?, ?,?)\"\n",
    "params = [('0', '0', \"entered from batch update 1\",\"entered from batch update 1\"), ('0', '0','entered from batch update 2',\"entered from batch update 2\"), ('0', '0',\"entered from batch update 3\", \"entered from batch update 3\")]\n",
    "cursor.executemany(sql, params) "
   ]
  },
  {
   "cell_type": "code",
   "execution_count": 30,
   "metadata": {},
   "outputs": [],
   "source": [
    "def insert_user(name, date_of_birth, medical_conditions, profile_picture):\n",
    "    try:\n",
    "        cursor.execute(\"\"\"\n",
    "            INSERT INTO Users (user_id, name, date_of_birth, medical_conditions, profile_picture) \n",
    "            VALUES (?, ?, ?, ?, ?)\n",
    "        \"\"\", [1, name, date_of_birth, medical_conditions, profile_picture])        \n",
    "        \n",
    "    except Exception as e:\n",
    "        print(e)\n",
    "\n",
    "# Insert a user and get their ID\n",
    "user_id = insert_user('John Doe', '1990-01-01', 'None', 'profile_afadsfasdff')"
   ]
  },
  {
   "cell_type": "code",
   "execution_count": 32,
   "metadata": {},
   "outputs": [
    {
     "ename": "DatabaseError",
     "evalue": "[SQLCODE: <-1>:<Invalid SQL statement>]\r\n[Location: <Prepare>]\r\n[%msg: < IDENTIFIER expected, * found ^DELETE *>]",
     "output_type": "error",
     "traceback": [
      "\u001b[0;31m---------------------------------------------------------------------------\u001b[0m",
      "\u001b[0;31mDatabaseError\u001b[0m                             Traceback (most recent call last)",
      "Cell \u001b[0;32mIn[32], line 1\u001b[0m\n\u001b[0;32m----> 1\u001b[0m \u001b[43mcursor\u001b[49m\u001b[38;5;241;43m.\u001b[39;49m\u001b[43mexecute\u001b[49m\u001b[43m(\u001b[49m\u001b[38;5;124;43m\"\u001b[39;49m\u001b[38;5;124;43mDELETE * FROM Users\u001b[39;49m\u001b[38;5;124;43m\"\u001b[39;49m\u001b[43m)\u001b[49m\n\u001b[1;32m      2\u001b[0m cursor\u001b[38;5;241m.\u001b[39mfetchall()\n",
      "File \u001b[0;32m~/anaconda3/envs/hackmit/lib/python3.10/site-packages/intersystems_iris/dbapi/_DBAPI.py:266\u001b[0m, in \u001b[0;36m_BaseCursor.execute\u001b[0;34m(self, operation, params)\u001b[0m\n\u001b[1;32m    264\u001b[0m \u001b[38;5;28;01mif\u001b[39;00m \u001b[38;5;28mself\u001b[39m\u001b[38;5;241m.\u001b[39m_statementType \u001b[38;5;241m==\u001b[39m StatementType\u001b[38;5;241m.\u001b[39mUPDATE:\n\u001b[1;32m    265\u001b[0m     \u001b[38;5;28mself\u001b[39m\u001b[38;5;241m.\u001b[39m_cursor_type \u001b[38;5;241m=\u001b[39m CursorType\u001b[38;5;241m.\u001b[39mPREPARED\n\u001b[0;32m--> 266\u001b[0m     \u001b[38;5;28;43mself\u001b[39;49m\u001b[38;5;241;43m.\u001b[39;49m\u001b[43m_prepare\u001b[49m\u001b[43m(\u001b[49m\u001b[43m)\u001b[49m\n\u001b[1;32m    267\u001b[0m \u001b[38;5;28;01melse\u001b[39;00m:\n\u001b[1;32m    268\u001b[0m     \u001b[38;5;28mself\u001b[39m\u001b[38;5;241m.\u001b[39m_cursor_type \u001b[38;5;241m=\u001b[39m CursorType\u001b[38;5;241m.\u001b[39mDEFAULT\n",
      "File \u001b[0;32m~/anaconda3/envs/hackmit/lib/python3.10/site-packages/intersystems_iris/dbapi/_DBAPI.py:422\u001b[0m, in \u001b[0;36m_BaseCursor._prepare\u001b[0;34m(self)\u001b[0m\n\u001b[1;32m    420\u001b[0m     \u001b[38;5;28;01mreturn\u001b[39;00m\n\u001b[1;32m    421\u001b[0m \u001b[38;5;28;01melse\u001b[39;00m:\n\u001b[0;32m--> 422\u001b[0m     \u001b[38;5;28;43mself\u001b[39;49m\u001b[38;5;241;43m.\u001b[39;49m\u001b[43m_prepare_new\u001b[49m\u001b[43m(\u001b[49m\u001b[43m)\u001b[49m\n",
      "File \u001b[0;32m~/anaconda3/envs/hackmit/lib/python3.10/site-packages/intersystems_iris/dbapi/_DBAPI.py:857\u001b[0m, in \u001b[0;36mCursor._prepare_new\u001b[0;34m(self)\u001b[0m\n\u001b[1;32m    855\u001b[0m     sqlcode \u001b[38;5;241m=\u001b[39m \u001b[38;5;28mself\u001b[39m\u001b[38;5;241m.\u001b[39m_in_message\u001b[38;5;241m.\u001b[39mwire\u001b[38;5;241m.\u001b[39mheader\u001b[38;5;241m.\u001b[39m_get_function_code()\n\u001b[1;32m    856\u001b[0m     \u001b[38;5;28;01mif\u001b[39;00m sqlcode \u001b[38;5;129;01mnot\u001b[39;00m \u001b[38;5;129;01min\u001b[39;00m [\u001b[38;5;241m0\u001b[39m, \u001b[38;5;241m100\u001b[39m]:\n\u001b[0;32m--> 857\u001b[0m         \u001b[38;5;28;01mraise\u001b[39;00m DatabaseError(\u001b[38;5;28mself\u001b[39m\u001b[38;5;241m.\u001b[39m_get_error_info(sqlcode))\n\u001b[1;32m    859\u001b[0m \u001b[38;5;66;03m# process metadata\u001b[39;00m\n\u001b[1;32m    860\u001b[0m \u001b[38;5;28;01mtry\u001b[39;00m:\n",
      "\u001b[0;31mDatabaseError\u001b[0m: [SQLCODE: <-1>:<Invalid SQL statement>]\r\n[Location: <Prepare>]\r\n[%msg: < IDENTIFIER expected, * found ^DELETE *>]"
     ]
    }
   ],
   "source": [
    "cursor.execute(\"DELETE * FROM Users\")\n",
    "cursor.fetchall()"
   ]
  },
  {
   "cell_type": "code",
   "execution_count": null,
   "metadata": {},
   "outputs": [],
   "source": []
  }
 ],
 "metadata": {
  "kernelspec": {
   "display_name": "hackmit",
   "language": "python",
   "name": "python3"
  },
  "language_info": {
   "codemirror_mode": {
    "name": "ipython",
    "version": 3
   },
   "file_extension": ".py",
   "mimetype": "text/x-python",
   "name": "python",
   "nbconvert_exporter": "python",
   "pygments_lexer": "ipython3",
   "version": "3.10.14"
  }
 },
 "nbformat": 4,
 "nbformat_minor": 2
}
