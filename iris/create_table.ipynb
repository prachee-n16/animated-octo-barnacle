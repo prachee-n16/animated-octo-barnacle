{
 "cells": [
  {
   "cell_type": "code",
   "execution_count": 2,
   "metadata": {},
   "outputs": [
    {
     "name": "stdout",
     "output_type": "stream",
     "text": [
      "Collecting intersystems-iris==3.8.0\n",
      "  Downloading https://github.com/intersystems-community/intersystems-irispython/releases/download/3.8.0/intersystems_iris-3.8.0-py3-none-any.whl (119 kB)\n",
      "\u001b[2K     \u001b[38;2;114;156;31m━━━━━━━━━━━━━━━━━━━━━━━━━━━━━━━━━━━━━━\u001b[0m \u001b[32m119.5/119.5 kB\u001b[0m \u001b[31m58.7 kB/s\u001b[0m eta \u001b[36m0:00:00\u001b[0m31m49.5 kB/s\u001b[0m eta \u001b[36m0:00:01\u001b[0m\n",
      "\u001b[?25hCollecting iris@ https://github.com/grongierisc/iris-embedded-python-wrapper/releases/download/v0.0.5/iris-0.0.5-py3-none-any.whl\n",
      "  Downloading https://github.com/grongierisc/iris-embedded-python-wrapper/releases/download/v0.0.5/iris-0.0.5-py3-none-any.whl (6.0 kB)\n",
      "Installing collected packages: iris, intersystems-iris\n",
      "Successfully installed intersystems-iris-3.8.0 iris-0.0.5\n"
     ]
    }
   ],
   "source": [
    "!pip install https://github.com/intersystems-community/intersystems-irispython/releases/download/3.8.0/intersystems_iris-3.8.0-py3-none-any.whl"
   ]
  },
  {
   "cell_type": "code",
   "execution_count": 1,
   "metadata": {},
   "outputs": [],
   "source": [
    "import intersystems_iris.dbapi._DBAPI as dbapi\n",
    "import time\n",
    "import os\n",
    "\n",
    "namespace=\"USER\"\n",
    "port = 1972\n",
    "hostname = os.getenv('IRIS_HOSTNAME', 'localhost')\n",
    "connection_string = f\"{hostname}:{port}/{namespace}\"\n",
    "username = \"demo\"\n",
    "password = \"demo\""
   ]
  },
  {
   "cell_type": "code",
   "execution_count": 2,
   "metadata": {},
   "outputs": [],
   "source": [
    "# Note: Ideally conn and cursor should be used with context manager or with try-execpt-finally \n",
    "conn = dbapi.connect(connection_string, username, password)\n",
    "cursor = conn.cursor()"
   ]
  },
  {
   "cell_type": "code",
   "execution_count": 3,
   "metadata": {},
   "outputs": [
    {
     "data": {
      "text/plain": [
       "0"
      ]
     },
     "execution_count": 3,
     "metadata": {},
     "output_type": "execute_result"
    }
   ],
   "source": [
    "# Users table\n",
    "users_table_name = \"Users\"\n",
    "users_table_definition = \"\"\"(\n",
    "    user_id %Library.AutoIncrement PRIMARY KEY,\n",
    "    name VARCHAR(255),\n",
    "    date_of_birth DATE,\n",
    "    medical_conditions TEXT,\n",
    "    profile_picture BLOB\n",
    ")\"\"\"\n",
    "\n",
    "cursor.execute(f\"CREATE TABLE IF NOT EXISTS {users_table_name} {users_table_definition}\")"
   ]
  },
  {
   "cell_type": "code",
   "execution_count": 3,
   "metadata": {},
   "outputs": [
    {
     "data": {
      "text/plain": [
       "0"
      ]
     },
     "execution_count": 3,
     "metadata": {},
     "output_type": "execute_result"
    }
   ],
   "source": [
    "users_table_name = \"Users\"\n",
    "users_table_definition = \"\"\"(\n",
    "    user_id %Library.AutoIncrement PRIMARY KEY,\n",
    "    name VARCHAR(255),\n",
    "    date_of_birth DATE,\n",
    "    medical_conditions TEXT,\n",
    "    profile_picture BLOB\n",
    ")\"\"\"\n",
    "\n",
    "cursor.execute(f\"CREATE TABLE IF NOT EXISTS {users_table_name} {users_table_definition}\")\n",
    "\n",
    "# People table\n",
    "people_table_name = \"People\"\n",
    "people_table_definition = \"\"\"(\n",
    "    person_id %Library.AutoIncrement PRIMARY KEY,\n",
    "    user_id INTEGER,\n",
    "    name VARCHAR(255),\n",
    "    relationship TEXT,\n",
    "    description TEXT,\n",
    "    picture BLOB,\n",
    "    FOREIGN KEY (user_id) REFERENCES Users(user_id)\n",
    ")\"\"\"\n",
    "\n",
    "cursor.execute(f\"CREATE TABLE IF NOT EXISTS {people_table_name} {people_table_definition}\")\n",
    "\n",
    "# Memories table\n",
    "memories_table_name = \"Memories\"\n",
    "memories_table_definition = \"\"\"(\n",
    "    memory_id %Library.AutoIncrement PRIMARY KEY,\n",
    "    user_id INTEGER,\n",
    "    person_id INTEGER,\n",
    "    title TEXT,\n",
    "    image BLOB,\n",
    "    description TEXT,\n",
    "    timestamp DATETIME DEFAULT CURRENT_TIMESTAMP,\n",
    "    embedding VECTOR(DOUBLE, 1536),\n",
    "    FOREIGN KEY (user_id) REFERENCES Users(user_id),\n",
    "    FOREIGN KEY (person_id) REFERENCES People(person_id)\n",
    ")\"\"\"\n",
    "\n",
    "cursor.execute(f\"CREATE TABLE IF NOT EXISTS {memories_table_name} {memories_table_definition}\")"
   ]
  },
  {
   "cell_type": "code",
   "execution_count": 11,
   "metadata": {},
   "outputs": [],
   "source": [
    "import base64\n",
    "import random\n",
    "import string\n",
    "from datetime import datetime, timedelta\n",
    "\n",
    "# Generate random names\n",
    "def random_name():\n",
    "    return ''.join(random.choices(string.ascii_uppercase + string.ascii_lowercase, k=8))\n",
    "\n",
    "# Generate random date of birth\n",
    "def random_dob():\n",
    "    start_date = datetime(1950, 1, 1)\n",
    "    end_date = datetime(2000, 12, 31)\n",
    "    return start_date + (end_date - start_date) * random.random()\n",
    "\n",
    "# Generate random base64 image data\n",
    "def random_base64_image():\n",
    "    return base64.b64encode(bytes([random.randint(0, 255) for _ in range(100)])).decode('utf-8')\n",
    "\n",
    "# Insert mock users\n",
    "for _ in range(100):\n",
    "    name = random_name()\n",
    "    dob = random_dob().strftime('%Y-%m-%d')\n",
    "    medical_conditions = random.choice([\"Diabetes\", \"Hypertension\", \"None\"])\n",
    "    profile_picture = random_base64_image()\n",
    "    \n",
    "    cursor.execute(f\"\"\"\n",
    "        INSERT INTO {users_table_name} (name, date_of_birth, medical_conditions, profile_picture)\n",
    "        VALUES (?, ?, ?, ?)\n",
    "    \"\"\", (name, dob, medical_conditions, profile_picture))\n",
    "\n",
    "# Fetch all user_ids for use in the People and Memories tables\n",
    "cursor.execute(f\"SELECT user_id FROM {users_table_name}\")\n",
    "user_ids = [row[0] for row in cursor.fetchall()]\n",
    "\n",
    "# Insert mock people related to users\n",
    "for _ in range(300):\n",
    "    user_id = random.choice(user_ids)\n",
    "    name = random_name()\n",
    "    relationship = random.choice([\"Friend\", \"Family\", \"Colleague\"])\n",
    "    description = f\"{name} is a {relationship} of user {user_id}.\"\n",
    "    picture = random_base64_image()\n",
    "    \n",
    "\n",
    "    cursor.execute(f\"\"\"\n",
    "        INSERT INTO {people_table_name} (user_id, name, relationship, description, picture)\n",
    "        VALUES (?, ?, ?, ?, ?)\n",
    "    \"\"\", (user_id, name, relationship, description, picture))\n",
    "\n",
    "# Fetch all person_ids for use in the Memories table\n",
    "cursor.execute(f\"SELECT person_id FROM {people_table_name}\")\n",
    "person_ids = [row[0] for row in cursor.fetchall()]\n",
    "\n",
    "# Insert mock memories for users and people\n",
    "for _ in range(500):\n",
    "    user_id = random.choice(user_ids)\n",
    "    person_id = random.choice(person_ids)\n",
    "    title = f\"Memory with {random_name()}\"\n",
    "    image = random_base64_image()\n",
    "    description = f\"A description of the memory titled '{title}'.\"\n",
    "    timestamp = (datetime.now() - timedelta(days=random.randint(1, 1000))).strftime('%Y-%m-%d %H:%M:%S')\n",
    "    embedding = ','.join([str(random.uniform(-1, 1)) for _ in range(1536)])\n",
    "\n",
    "    sql = \"\"\"\n",
    "    INSERT INTO Memories (user_id, title, image, description, embedding, person_id)\n",
    "    VALUES (?, ?, ?, ?, TO_VECTOR(?, DOUBLE), ?)\n",
    "    \"\"\"\n",
    "    \n",
    "    try:\n",
    "        cursor.execute(sql, (user_id, title, image, description, embedding, person_id))\n",
    "        conn.commit()        \n",
    "    except Exception as e:\n",
    "        conn.rollback()\n",
    "        print(f\"Error inserting memory: {str(e)}\")\n",
    "conn.commit()  # Commit all the changes to the database\n"
   ]
  },
  {
   "cell_type": "markdown",
   "metadata": {},
   "source": []
  },
  {
   "cell_type": "code",
   "execution_count": 9,
   "metadata": {},
   "outputs": [],
   "source": [
    "tableName = \"Demo.Diagnoses\"\n",
    "tableDefinition = \"(row_id INTEGER, icd9_code VARCHAR(255), short_title VARCHAR(255), long_title VARCHAR(''))\""
   ]
  },
  {
   "cell_type": "code",
   "execution_count": 10,
   "metadata": {},
   "outputs": [
    {
     "data": {
      "text/plain": [
       "0"
      ]
     },
     "execution_count": 10,
     "metadata": {},
     "output_type": "execute_result"
    }
   ],
   "source": [
    "try:\n",
    "    cursor.execute(f\"DROP TABLE {tableName}\")  \n",
    "except:\n",
    "    pass\n",
    "cursor.execute(f\"CREATE TABLE {tableName} {tableDefinition}\")"
   ]
  },
  {
   "cell_type": "code",
   "execution_count": 11,
   "metadata": {},
   "outputs": [
    {
     "data": {
      "text/plain": [
       "3"
      ]
     },
     "execution_count": 11,
     "metadata": {},
     "output_type": "execute_result"
    }
   ],
   "source": [
    "## batch update\n",
    "sql = \"Insert into Demo.Diagnoses (row_id, icd9_code,short_title,long_title) values (?, ?, ?,?)\"\n",
    "params = [('0', '0', \"entered from batch update 1\",\"entered from batch update 1\"), ('0', '0','entered from batch update 2',\"entered from batch update 2\"), ('0', '0',\"entered from batch update 3\", \"entered from batch update 3\")]\n",
    "cursor.executemany(sql, params) "
   ]
  },
  {
   "cell_type": "code",
   "execution_count": 4,
   "metadata": {},
   "outputs": [
    {
     "name": "stdout",
     "output_type": "stream",
     "text": [
      "None\n"
     ]
    }
   ],
   "source": [
    "def insert_user(name, date_of_birth, medical_conditions, profile_picture):\n",
    "    try:\n",
    "        cursor.execute(\"\"\"\n",
    "            INSERT INTO Users (user_id, name, date_of_birth, medical_conditions, profile_picture) \n",
    "            VALUES (?, ?, ?, ?, ?)\n",
    "        \"\"\", [0, name, date_of_birth, medical_conditions, profile_picture])        \n",
    "        \n",
    "    except Exception as e:\n",
    "        print(e)\n",
    "\n",
    "# Insert a user and get their ID\n",
    "# TODO: PROMPT ENGINEERING\n",
    "user_id = insert_user('Tejas Srikanth', '1990-01-01', 'None', 'profile_afadsfasdff')"
   ]
  },
  {
   "cell_type": "code",
   "execution_count": 14,
   "metadata": {},
   "outputs": [
    {
     "ename": "DatabaseError",
     "evalue": "[SQLCODE: <-1>:<Invalid SQL statement>]\r\n[Location: <Prepare>]\r\n[%msg: < IDENTIFIER expected, * found ^DELETE *>]",
     "output_type": "error",
     "traceback": [
      "\u001b[0;31m---------------------------------------------------------------------------\u001b[0m",
      "\u001b[0;31mDatabaseError\u001b[0m                             Traceback (most recent call last)",
      "Cell \u001b[0;32mIn[14], line 1\u001b[0m\n\u001b[0;32m----> 1\u001b[0m \u001b[43mcursor\u001b[49m\u001b[38;5;241;43m.\u001b[39;49m\u001b[43mexecute\u001b[49m\u001b[43m(\u001b[49m\u001b[38;5;124;43m\"\u001b[39;49m\u001b[38;5;124;43mDELETE * FROM Users\u001b[39;49m\u001b[38;5;124;43m\"\u001b[39;49m\u001b[43m)\u001b[49m\n\u001b[1;32m      2\u001b[0m cursor\u001b[38;5;241m.\u001b[39mfetchall()\n",
      "File \u001b[0;32m/opt/homebrew/Caskroom/miniforge/base/lib/python3.10/site-packages/intersystems_iris/dbapi/_DBAPI.py:266\u001b[0m, in \u001b[0;36m_BaseCursor.execute\u001b[0;34m(self, operation, params)\u001b[0m\n\u001b[1;32m    264\u001b[0m \u001b[38;5;28;01mif\u001b[39;00m \u001b[38;5;28mself\u001b[39m\u001b[38;5;241m.\u001b[39m_statementType \u001b[38;5;241m==\u001b[39m StatementType\u001b[38;5;241m.\u001b[39mUPDATE:\n\u001b[1;32m    265\u001b[0m     \u001b[38;5;28mself\u001b[39m\u001b[38;5;241m.\u001b[39m_cursor_type \u001b[38;5;241m=\u001b[39m CursorType\u001b[38;5;241m.\u001b[39mPREPARED\n\u001b[0;32m--> 266\u001b[0m     \u001b[38;5;28;43mself\u001b[39;49m\u001b[38;5;241;43m.\u001b[39;49m\u001b[43m_prepare\u001b[49m\u001b[43m(\u001b[49m\u001b[43m)\u001b[49m\n\u001b[1;32m    267\u001b[0m \u001b[38;5;28;01melse\u001b[39;00m:\n\u001b[1;32m    268\u001b[0m     \u001b[38;5;28mself\u001b[39m\u001b[38;5;241m.\u001b[39m_cursor_type \u001b[38;5;241m=\u001b[39m CursorType\u001b[38;5;241m.\u001b[39mDEFAULT\n",
      "File \u001b[0;32m/opt/homebrew/Caskroom/miniforge/base/lib/python3.10/site-packages/intersystems_iris/dbapi/_DBAPI.py:422\u001b[0m, in \u001b[0;36m_BaseCursor._prepare\u001b[0;34m(self)\u001b[0m\n\u001b[1;32m    420\u001b[0m     \u001b[38;5;28;01mreturn\u001b[39;00m\n\u001b[1;32m    421\u001b[0m \u001b[38;5;28;01melse\u001b[39;00m:\n\u001b[0;32m--> 422\u001b[0m     \u001b[38;5;28;43mself\u001b[39;49m\u001b[38;5;241;43m.\u001b[39;49m\u001b[43m_prepare_new\u001b[49m\u001b[43m(\u001b[49m\u001b[43m)\u001b[49m\n",
      "File \u001b[0;32m/opt/homebrew/Caskroom/miniforge/base/lib/python3.10/site-packages/intersystems_iris/dbapi/_DBAPI.py:857\u001b[0m, in \u001b[0;36mCursor._prepare_new\u001b[0;34m(self)\u001b[0m\n\u001b[1;32m    855\u001b[0m     sqlcode \u001b[38;5;241m=\u001b[39m \u001b[38;5;28mself\u001b[39m\u001b[38;5;241m.\u001b[39m_in_message\u001b[38;5;241m.\u001b[39mwire\u001b[38;5;241m.\u001b[39mheader\u001b[38;5;241m.\u001b[39m_get_function_code()\n\u001b[1;32m    856\u001b[0m     \u001b[38;5;28;01mif\u001b[39;00m sqlcode \u001b[38;5;129;01mnot\u001b[39;00m \u001b[38;5;129;01min\u001b[39;00m [\u001b[38;5;241m0\u001b[39m, \u001b[38;5;241m100\u001b[39m]:\n\u001b[0;32m--> 857\u001b[0m         \u001b[38;5;28;01mraise\u001b[39;00m DatabaseError(\u001b[38;5;28mself\u001b[39m\u001b[38;5;241m.\u001b[39m_get_error_info(sqlcode))\n\u001b[1;32m    859\u001b[0m \u001b[38;5;66;03m# process metadata\u001b[39;00m\n\u001b[1;32m    860\u001b[0m \u001b[38;5;28;01mtry\u001b[39;00m:\n",
      "\u001b[0;31mDatabaseError\u001b[0m: [SQLCODE: <-1>:<Invalid SQL statement>]\r\n[Location: <Prepare>]\r\n[%msg: < IDENTIFIER expected, * found ^DELETE *>]"
     ]
    }
   ],
   "source": [
    "cursor.execute(\"DELETE * FROM Users\")\n",
    "cursor.fetchall()"
   ]
  },
  {
   "cell_type": "code",
   "execution_count": null,
   "metadata": {},
   "outputs": [],
   "source": [
    "users_table_name = \"Faces\"\n",
    "users_table_definition = \"\"\"(\n",
    "    name VARCHAR(255), \n",
    "    relationship VARCHAR(255),\n",
    "    face_embedding VECTOR(DOUBLE, 512), \n",
    "    other_info VARCHAR(512)\n",
    ")\"\"\"\n",
    "\n",
    "cursor.execute(f\"CREATE TABLE IF NOT EXISTS {users_table_name} {users_table_definition}\")"
   ]
  },
  {
   "cell_type": "code",
   "execution_count": null,
   "metadata": {},
   "outputs": [],
   "source": [
    "def insert_mem(name, relationship, face_embedding, other_info):\n",
    "    try:\n",
    "        cursor.execute(\"\"\"\n",
    "            INSERT INTO Faces (name, relationship, face_embedding, other_info) \n",
    "            VALUES (?, ?, ?, ?)\n",
    "        \"\"\", [name, relationship, face_embedding, other_info])        \n",
    "        \n",
    "    except Exception as e:\n",
    "        print(e)\n",
    "\n",
    "# BEGIN: run insert_mem using fake vector embedding\n",
    "fake_embedding = [0.0] * 512\n",
    "insert_mem('Jane Doe', 'Friend', fake_embedding, 'Some other info')\n",
    "# END: run insert_mem using fake vector embedding"
   ]
  }
 ],
 "metadata": {
  "kernelspec": {
   "display_name": "hackmit",
   "language": "python",
   "name": "python3"
  },
  "language_info": {
   "codemirror_mode": {
    "name": "ipython",
    "version": 3
   },
   "file_extension": ".py",
   "mimetype": "text/x-python",
   "name": "python",
   "nbconvert_exporter": "python",
   "pygments_lexer": "ipython3",
   "version": "3.10.14"
  }
 },
 "nbformat": 4,
 "nbformat_minor": 2
}
